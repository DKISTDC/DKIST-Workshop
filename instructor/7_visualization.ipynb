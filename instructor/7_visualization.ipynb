{
 "cells": [
  {
   "cell_type": "markdown",
   "id": "50fe7dce",
   "metadata": {},
   "source": [
    "# Visualizing DKIST Data\n",
    "\n",
    "In this session we will look at how to take a better look at the actual data once we've downloaded it.\n",
    "As usual, first we'll need a dataset.\n",
    "We'll use the VISP data we downloaded at the end of the last notebook."
   ]
  },
  {
   "cell_type": "code",
   "execution_count": null,
   "id": "d740304b",
   "metadata": {
    "tags": [
     "skip-execution"
    ]
   },
   "outputs": [],
   "source": [
    "%matplotlib tk"
   ]
  },
  {
   "cell_type": "code",
   "execution_count": null,
   "id": "a8ed6daf",
   "metadata": {},
   "outputs": [],
   "source": [
    "import dkist\n",
    "import matplotlib.pyplot as plt\n",
    "\n",
    "ds = dkist.load_dataset('~/sunpy/data/VISP/BKPLX')\n",
    "ds"
   ]
  },
  {
   "cell_type": "markdown",
   "id": "326edb53",
   "metadata": {},
   "source": [
    "## Plotting our data\n",
    "\n",
    "Getting started with plotting a dataset is straightforward.\n",
    "`Dataset` provides a `plot()` method which makes a decent default plot of the data."
   ]
  },
  {
   "cell_type": "code",
   "execution_count": null,
   "id": "dc544ee0",
   "metadata": {},
   "outputs": [],
   "source": [
    "ds.plot()\n",
    "plt.show()"
   ]
  },
  {
   "cell_type": "markdown",
   "id": "4a474db6",
   "metadata": {},
   "source": [
    "Since our dataset is 4D and most users will only have access to a 2D screen, a slice has to be taken through the data.\n",
    "That slice is defined by how the data are ordered and stored in the FITS files.\n",
    "In this case, since the FITS files are arrays of the spatial axis vs wavelength, this is the slice that has been plotted for a single polarisation state and scan step.\n",
    "\n",
    "This is where the sliders at the bottom of the plot come in.\n",
    "These correspond to the axes of the data that aren't shown, and allow you to step through those axes.\n",
    "This allows you to set the polarisation state and scan step for which the slice is taken, and show the data slice at those coordinates.\n",
    "Alternatively, you can click the play button at the side of each slider to animate the plot and loop through all those values.\n",
    "\n",
    "Of course, you will probably find you don't always want to slice through the data in the default way.\n",
    "In this case, you can use the `plot_axes` argument to `plot()`.\n",
    "This takes a list which defines which axes to plot as the slice and which to use as the sliders.\n",
    "The list should contain `\"x\"` and `\"y\"` in the locations corresponding to the axes we want to plot, and `None` elsewhere.\n",
    "The ordering for this is the same as for the pixel dimensions as shown in the `Dataset` summary."
   ]
  },
  {
   "cell_type": "code",
   "execution_count": null,
   "id": "96c253f4",
   "metadata": {},
   "outputs": [],
   "source": [
    "ds"
   ]
  },
  {
   "cell_type": "markdown",
   "id": "a91876cc",
   "metadata": {},
   "source": [
    "So the list needed to specify the default ordering would be `[None, None, 'y', 'x']`.\n",
    "If instead we want to plot the image formed by the raster scan at a particular wavelength and Stokes value, we can change which axes we specify as the x and y axes of the plot.\n",
    "For this example we will slice the data down to a particular region of interest."
   ]
  },
  {
   "cell_type": "code",
   "execution_count": null,
   "id": "429b213a",
   "metadata": {},
   "outputs": [],
   "source": [
    "small_ds = ds[0, 150:300, :, 1010:-1010]"
   ]
  },
  {
   "cell_type": "markdown",
   "id": "cccf4fd3",
   "metadata": {},
   "source": [
    "Note that since this removes the first axis, the `plot_axes` argument is now only three items long."
   ]
  },
  {
   "cell_type": "code",
   "execution_count": null,
   "id": "66f3243b",
   "metadata": {},
   "outputs": [],
   "source": [
    "# Plot 'raster scan step number' on the y axis and 'spatial along slit' on the x axis\n",
    "small_ds.plot(plot_axes=['y', None, 'x'])\n",
    "plt.show()"
   ]
  },
  {
   "cell_type": "markdown",
   "id": "d8b74a28",
   "metadata": {},
   "source": [
    "You may have noticed this plot took longer to draw than the previous one.\n",
    "This is for the same reason as we discussed when talking about reducing the size of dataset downloads: when you slice across the array in a different direction to how it's stored in the files, you have to reference multiple files to create the slice.\n",
    "So while the first plot only had to load values from one file at a time, the one above needs to get one line of the array from each of 150 files in order to draw the slice.\n",
    "If you try to animate it, it then needs to do this again at every step.\n",
    "\n",
    "```{warning}\n",
    "For the above example we have deliberately sliced the data to make it a more manageable size.\n",
    "Due to some known issues in the plotting code, plotting slices across the data in this way is still slower than we'd like.\n",
    "Full-sized datasets should therefore be plotted with caution.\n",
    "See issue [#226](https://github.com/DKISTDC/dkist/issues/226) for more details.\n",
    "```\n",
    "\n",
    "You can also use `plot_axes` to create a line plot, by specifying only one axis of the data.\n",
    "So to plot a spectrum at a fixed Stokes, time and raster location we can tell `plot` to use the dispersion axis as the x axis."
   ]
  },
  {
   "cell_type": "code",
   "execution_count": null,
   "id": "e2c9775b",
   "metadata": {},
   "outputs": [],
   "source": [
    "ds.plot(plot_axes=[None, None, 'x', None])\n",
    "plt.show()"
   ]
  },
  {
   "cell_type": "markdown",
   "id": "facf4935",
   "metadata": {},
   "source": [
    "It is also possible to slice the data manually and just plot the result.\n",
    "This of course creates a new dataset so it will only plot the axes that remain, without sliders or the ability to step through the values of the other axes."
   ]
  },
  {
   "cell_type": "code",
   "execution_count": null,
   "id": "9a8ad4b5",
   "metadata": {},
   "outputs": [],
   "source": [
    "# Plot the same data as above\n",
    "ds[0, 0, :, 0].plot()\n",
    "plt.show()"
   ]
  },
  {
   "cell_type": "markdown",
   "id": "9ceb6b57",
   "metadata": {},
   "source": [
    "## Plotting with `TiledDataset`\n",
    "\n",
    "Again like `Dataset`, `TiledDataset` provides a plotting helper method. This works slightly differently to `Dataset.plot()` though, in that it is not straightforward to animate a collection of tiles, which leaves the problem of how to display 3D data as a static image. `TiledDataset.plot()` therefore takes an argument which specifies a slice to be taken through each tile, which must reduce it to a plottable two dimensions.\n",
    "\n",
    "In the case of VBI, this argument will be a single number which specifies the index on the time axis to plot."
   ]
  },
  {
   "cell_type": "code",
   "execution_count": null,
   "id": "84260569",
   "metadata": {},
   "outputs": [],
   "source": [
    "from dkist.data.sample import VBI_AJQWW\n",
    "import matplotlib.pyplot as plt\n",
    "\n",
    "tds = dkist.load_dataset(VBI_AJQWW)\n",
    "tds.plot(0)"
   ]
  },
  {
   "cell_type": "markdown",
   "id": "4bdcc7a8",
   "metadata": {},
   "source": [
    "As more DKIST instruments become available you may encounter tiled data with even more dimensions. In this case the slice argument would be either a tuple of integers or a numpy slice object. In either case it would be the indices required to reduce a tile to a 2D image.\n",
    "\n",
    "You may notice in the plots above that the colour scale is independent for each tile. This is the default behaviour as it will allow features in each tile to be seen without being washed out by features in other tiles. However, for a more unified look you can tell `.plot()` to use the same scale for all tiles, with the `share_zscale` argument."
   ]
  },
  {
   "cell_type": "code",
   "execution_count": null,
   "id": "128745b5",
   "metadata": {
    "tags": [
     "skip-execution"
    ]
   },
   "outputs": [],
   "source": [
    "tds.plot(0, share_zscale=True)"
   ]
  }
 ],
 "metadata": {
  "jupytext": {
   "default_lexer": "ipython3"
  },
  "kernelspec": {
   "display_name": "Python 3 (ipykernel)",
   "language": "python",
   "name": "python3"
  }
 },
 "nbformat": 4,
 "nbformat_minor": 5
}
