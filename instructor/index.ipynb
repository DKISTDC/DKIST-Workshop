{
 "cells": [
  {
   "cell_type": "markdown",
   "id": "22ecdf54",
   "metadata": {},
   "source": [
    "(dkist:tutorial:index)=\n",
    "# Python Tools Tutorial\n",
    "\n",
    "Welcome to the DKIST tutorial.\n",
    "In this tutorial we shall guide you through getting started with DKIST data.\n",
    "By the end of this tutorial you should be familiar with how to:\n",
    "\n",
    "* Search for level one datasets using `Fido`.\n",
    "* Loading these datasets with `dkist.load_dataset`.\n",
    "* Inspecting the `dkist.Dataset` object and how to work with it.\n",
    "* How to transfer FITS files to your local computer using Globus.\n",
    "* How to do some basic plotting of the DKIST data.\n",
    "\n",
    "Before you get started with this tutorial follow {ref}`dkist:installation` to get Python and the ``dkist`` package installed."
   ]
  },
  {
   "cell_type": "markdown",
   "id": "641c444a",
   "metadata": {},
   "source": [
    "## Contents\n",
    "1. [Astropy and SunPy - A Quick Primer](1_astropy_and_sunpy.ipynb) - [Instructor](instructor/1_astropy_and_sunpy.ipynb)\n",
    "1. [Searching for DKIST Datasets](2_search_and_asdf_download.ipynb) - [Instructor](instructor/2_search_and_asdf_download.ipynb)\n",
    "1. [Working with a VISP `Dataset`](3_the_dataset.ipynb) - [Instructor](instructor/3_the_dataset.ipynb)\n",
    "1. [More `Dataset`](4_more_dataset.ipynb) - [Instructor](instructor/4_more_dataset.ipynb)\n",
    "1. [Downloading Data](5_downloading_data.ipynb) - [Instructor](instructor/5_downloading_data.ipynb)\n",
    "1. [Visualizing DKIST Data](6_visualization.ipynb) - [Instructor](instructor/6_visualization.ipynb)"
   ]
  }
 ],
 "metadata": {
  "jupytext": {
   "cell_metadata_filter": "-all",
   "main_language": "python",
   "notebook_metadata_filter": "-all"
  }
 },
 "nbformat": 4,
 "nbformat_minor": 5
}
