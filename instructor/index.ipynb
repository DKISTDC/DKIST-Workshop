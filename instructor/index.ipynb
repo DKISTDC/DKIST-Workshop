{
 "cells": [
  {
   "cell_type": "markdown",
   "id": "a9c8b280",
   "metadata": {},
   "source": [
    "(dkist:tutorial:index)=\n",
    "# Python Tools Tutorial\n",
    "\n",
    "Welcome to the DKIST tutorial.\n",
    "In this tutorial we shall guide you through getting started with DKIST data.\n",
    "By the end of this tutorial you should be familiar with how to:\n",
    "\n",
    "* Search for level one datasets using `Fido`.\n",
    "* Loading these datasets with `dkist.load_dataset`.\n",
    "* Inspecting the `dkist.Dataset` object and how to work with it.\n",
    "* How to transfer FITS files to your local computer using Globus.\n",
    "* How to do some basic plotting of the DKIST data.\n",
    "\n",
    "Before you get started with this tutorial follow {ref}`dkist:installation` to get Python and the ``dkist`` package installed."
   ]
  },
  {
   "cell_type": "markdown",
   "id": "6f7bb6f7",
   "metadata": {},
   "source": [
    "## Contents\n",
    "1. [Astropy and SunPy - A Quick Primer](1_astropy_and_sunpy.ipynb) - [Instructor](instructor/1_astropy_and_sunpy.ipynb)\n",
    "1. [Searching for DKIST Datasets](2_search_and_asdf_download.ipynb) - [Instructor](instructor/2_search_and_asdf_download.ipynb)\n",
    "1. [Dimensionality of a `Dataset`](3_dataset_dimensionality.ipynb) - [Instructor](instructor/3_dataset_dimensionality.ipynb)\n",
    "1. [Exploring Files in a `Dataset`](4_dataset_files.ipynb) - [Instructor](instructor/4_dataset_files.ipynb)\n",
    "1. [TiledDataset](5_tileddataset.ipynb) - [Instructor](instructor/5_tileddataset.ipynb)\n",
    "1. [Downloading Data](6_downloading_data.ipynb) - [Instructor](instructor/6_downloading_data.ipynb)\n",
    "1. [Visualizing DKIST Data](7_visualization.ipynb) - [Instructor](instructor/7_visualization.ipynb)"
   ]
  }
 ],
 "metadata": {
  "jupytext": {
   "cell_metadata_filter": "-all",
   "main_language": "python",
   "notebook_metadata_filter": "-all"
  }
 },
 "nbformat": 4,
 "nbformat_minor": 5
}
