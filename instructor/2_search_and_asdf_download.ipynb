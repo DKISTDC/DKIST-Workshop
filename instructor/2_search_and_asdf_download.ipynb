{
 "cells": [
  {
   "cell_type": "markdown",
   "id": "8eaec9d8",
   "metadata": {},
   "source": [
    "(dkist:tutorial:search-and-download)=\n",
    "# Searching for DKIST Datasets\n",
    "\n",
    "In this tutorial you will search for DKIST datasets available at the DKIST Data Center.\n",
    "\n",
    "Each dataset comprises a number of different files:\n",
    "  * An ASDF file containing all the metadata, and no data.\n",
    "  * A quality report PDF.\n",
    "  * An mp4 preview movie.\n",
    "  * A (large) number of FITS files, each containing a \"calibrated exposure\".\n",
    "  \n",
    "The ASDF, quality report and preview movie can all be downloaded without authenticating, the FITS files require the use of Globus, which is covered in {ref}`dkist:tutorial:downloading-data`.\n",
    "\n",
    "## Using `Fido.search`\n",
    "\n",
    "The search interface used for searching the dataset holding at the DKIST data center is {obj}`sunpy.net.Fido`.\n",
    "With `Fido` you can search for datasets and download their corresponding ASDF files.\n",
    "To register the DKIST search with `Fido` we must also import `dkist.net`."
   ]
  },
  {
   "cell_type": "code",
   "execution_count": null,
   "id": "cd87b53c",
   "metadata": {},
   "outputs": [],
   "source": [
    "import dkist.net\n",
    "import astropy.units as u\n",
    "from sunpy.net import Fido, attrs as a"
   ]
  },
  {
   "cell_type": "markdown",
   "id": "b463ed23",
   "metadata": {},
   "source": [
    "`Fido` searches are built up from \"attrs\", which we imported above as `a`.\n",
    "These attrs are combined together with either logical and or logical or operations to make complex queries.\n",
    "Let's start simple and search for all the DKIST datasets which are not embargoed:"
   ]
  },
  {
   "cell_type": "code",
   "execution_count": null,
   "id": "322481b2",
   "metadata": {},
   "outputs": [],
   "source": [
    "Fido.search(a.dkist.Embargoed(False))"
   ]
  },
  {
   "cell_type": "markdown",
   "id": "9e345dbe",
   "metadata": {},
   "source": [
    "Because we only specified one attr, and it was unique to the dkist client (it started with `a.dkist`) only the DKIST client was used.\n",
    "\n",
    "If we only want VBI datasets, that are unembargoed, between a specific time range we can use multiple attrs:"
   ]
  },
  {
   "cell_type": "code",
   "execution_count": null,
   "id": "c0a37340",
   "metadata": {},
   "outputs": [],
   "source": [
    "Fido.search(a.Time(\"2023/10/16 18:45\", \"2023/10/16 18:48\") & a.Instrument.vbi & a.dkist.Embargoed(False))"
   ]
  },
  {
   "cell_type": "markdown",
   "id": "04a344d3",
   "metadata": {},
   "source": [
    "Note how the `a.Time` and `a.Instrument` attrs are not prefixed with `dkist`.\n",
    "These are general attrs which can be used to search multiple clients.\n",
    "\n",
    "So far the returned results have had to match all the attrs provided, because we have used the `&` (logical and) operator to join them.\n",
    "If we want results that match either one of multiple options we can use the `|` operator.\n",
    "Let's also restrict our search to a particular proposal, `pid_2_114`."
   ]
  },
  {
   "cell_type": "code",
   "execution_count": null,
   "id": "6454c342",
   "metadata": {},
   "outputs": [],
   "source": [
    "res = Fido.search((a.Instrument.vbi | a.Instrument.visp) & a.dkist.Embargoed(False) & a.dkist.Proposal(\"pid_2_114\"))\n",
    "res"
   ]
  },
  {
   "cell_type": "markdown",
   "id": "02de3767",
   "metadata": {},
   "source": [
    "As you can see this has returned two separate tables, one for VBI and one for VISP, even though in fact the VBI table is empty.\n",
    "\n",
    "## Working with Results Tables\n",
    "\n",
    "In this case, since there is no VBI data, let's first look at just the VISP results, the second table."
   ]
  },
  {
   "cell_type": "code",
   "execution_count": null,
   "id": "5c7ac64d",
   "metadata": {},
   "outputs": [],
   "source": [
    "visp = res[1]\n",
    "visp"
   ]
  },
  {
   "cell_type": "markdown",
   "id": "4afa4a08",
   "metadata": {},
   "source": [
    "We can do some sorting and filtering using this table.\n",
    "For instance, if we are interested in choosing data with a particular $r_0$ value, we can show only that column plus a few to help us identify the data:"
   ]
  },
  {
   "cell_type": "code",
   "execution_count": null,
   "id": "ea3d848c",
   "metadata": {},
   "outputs": [],
   "source": [
    "visp[\"Dataset ID\", \"Start Time\", \"Average Fried Parameter\", \"Embargoed\"]"
   ]
  },
  {
   "cell_type": "markdown",
   "id": "598e5100",
   "metadata": {},
   "source": [
    "or sort based on the $r_0$ column, and pick the top 3 results, showing the same columns as before:"
   ]
  },
  {
   "cell_type": "code",
   "execution_count": null,
   "id": "3fd29e0c",
   "metadata": {},
   "outputs": [],
   "source": [
    "visp.sort(\"Average Fried Parameter\")\n",
    "visp[\"Dataset ID\", \"Start Time\", \"Average Fried Parameter\", \"Embargoed\"][:3]"
   ]
  },
  {
   "cell_type": "markdown",
   "id": "bd8b8bd1",
   "metadata": {},
   "source": [
    "Once we have selected the rows we are interested in we can move onto downloading the ASDF files.\n",
    "\n",
    "## Downloading Files with `Fido.fetch`\n",
    "\n",
    "```{note}\n",
    "Only the ASDF files can be downloaded with `Fido`.\n",
    "To download the FITS files containing the data, see the [downloading data tutorial](dkist:tutorial:downloading-data)\n",
    "```\n",
    "\n",
    "To download files with `Fido` we pass the search results to `Fido.fetch`.\n",
    "\n",
    "Let's do so with one of our VISP results:"
   ]
  },
  {
   "cell_type": "code",
   "execution_count": null,
   "id": "572afcad",
   "metadata": {},
   "outputs": [],
   "source": [
    "Fido.fetch(visp[0])"
   ]
  },
  {
   "cell_type": "markdown",
   "id": "2f3a59eb",
   "metadata": {},
   "source": [
    "This will download the ASDF file to the sunpy default data directory `~/sunpy/data`, we can customise this with the `path=` keyword argument.\n",
    "Note that you can also pass more than one result to be downloaded.\n",
    "\n",
    "A simple example of both of these is:"
   ]
  },
  {
   "cell_type": "code",
   "execution_count": null,
   "id": "95981801",
   "metadata": {},
   "outputs": [],
   "source": [
    "Fido.fetch(visp[:3], path=\"~/dkist_data/{instrument}_{dataset_id}/\")"
   ]
  },
  {
   "cell_type": "markdown",
   "id": "3f787e2e",
   "metadata": {},
   "source": [
    "This will put each of our ASDF files in a directory named with the corresponding Dataset ID and Instrument."
   ]
  }
 ],
 "metadata": {
  "kernelspec": {
   "display_name": "Python 3",
   "language": "python",
   "name": "python3"
  }
 },
 "nbformat": 4,
 "nbformat_minor": 5
}
