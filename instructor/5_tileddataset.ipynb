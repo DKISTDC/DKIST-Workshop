{
 "cells": [
  {
   "cell_type": "markdown",
   "id": "d20f4785",
   "metadata": {},
   "source": [
    "# TiledDataset\n",
    "\n",
    "So far all our examples have used the base {obj}`dkist.Dataset` class with VISP data.\n",
    "In this way we have demonstrated the most important features of the Python tools for working with DKIST data, but some data do not quite fit into the base `Dataset` structure.\n",
    "Specifically, VBI data consist of distinct image tiles forming a larger mosaic image.\n",
    "The individual tiles of the image are not combined by the Data Center into a single image, since this would involve interpolation at the tile edges and this is left to the user to make their own choices about.\n",
    "Instead the tiles are kept separate but must therefore be considered as separate images by the `Dataset` object.\n",
    "\n",
    "For this purpose the Python tools have the {obj}`dkist.TiledDataset` class, which is essentially a 2D array of `Dataset` objects, with some helper functions to make it easier to work with those `Dataset`s either individually or together.\n",
    "\n",
    "To see `TiledDataset` in action we'll load some VBI data. We'll use the VBI data from the sample datasets, which is accessible in the same way as the VISP dataset we used before"
   ]
  },
  {
   "cell_type": "code",
   "execution_count": null,
   "id": "8b616ec1",
   "metadata": {},
   "outputs": [],
   "source": [
    "import dkist\n",
    "from dkist.data.sample import VBI_AJQWW\n",
    "\n",
    "VBI_AJQWW"
   ]
  },
  {
   "cell_type": "markdown",
   "id": "40516e62",
   "metadata": {},
   "source": [
    "Now let's use that file path to create a `TiledDataset`. This is done in exactly the same way as for a regular `Dataset`, using `load_dataset()`:"
   ]
  },
  {
   "cell_type": "code",
   "execution_count": null,
   "id": "30704f1d",
   "metadata": {},
   "outputs": [],
   "source": [
    "tds = dkist.load_dataset(VBI_AJQWW)\n",
    "tds"
   ]
  },
  {
   "cell_type": "markdown",
   "id": "d7c7e037",
   "metadata": {},
   "source": [
    "You will see that this output looks very similar to the output for our VISP dataset in previous examples.\n",
    "We still have information about the number and type of pixel and world dimensions in the constituent datasets, and the correlations between them.\n",
    "(Note: this information is taken from the first tile and assumes it is the same for all tiles.) In this case the output also tells us that this is a 3x3 array of `Dataset`s with 27 frames in total.\n",
    "\n",
    "Some of this basic information is also available as attributes on the `TiledDataset`, just as it is with `Dataset`. For instance the shape of the array of tiles:"
   ]
  },
  {
   "cell_type": "code",
   "execution_count": null,
   "id": "729951fd",
   "metadata": {},
   "outputs": [],
   "source": [
    "tds.shape"
   ]
  },
  {
   "cell_type": "markdown",
   "id": "c11441ea",
   "metadata": {},
   "source": [
    "This is not to be confused with the shapes of the tiles themselves:"
   ]
  },
  {
   "cell_type": "code",
   "execution_count": null,
   "id": "89b4b7f4",
   "metadata": {},
   "outputs": [],
   "source": [
    "tds.tiles_shape"
   ]
  },
  {
   "cell_type": "markdown",
   "id": "bd089ab4",
   "metadata": {},
   "source": [
    "`TiledDataset` also keeps the `.inventory` attribute containing important metadata about the dataset:"
   ]
  },
  {
   "cell_type": "code",
   "execution_count": null,
   "id": "ea659326",
   "metadata": {},
   "outputs": [],
   "source": [
    "tds.inventory"
   ]
  },
  {
   "cell_type": "markdown",
   "id": "64309448",
   "metadata": {},
   "source": [
    "And the headers for all the datasets are stored as `combined_headers`:"
   ]
  },
  {
   "cell_type": "code",
   "execution_count": null,
   "id": "c94c80c6",
   "metadata": {},
   "outputs": [],
   "source": [
    "tds.combined_headers"
   ]
  },
  {
   "cell_type": "markdown",
   "id": "ffbe1afc",
   "metadata": {},
   "source": [
    "Of course, since `TiledDataset` is array-like, we can also index it to access individual tiles."
   ]
  },
  {
   "cell_type": "code",
   "execution_count": null,
   "id": "3271a30d",
   "metadata": {},
   "outputs": [],
   "source": [
    "tds[0, 0]"
   ]
  },
  {
   "cell_type": "markdown",
   "id": "c5331fff",
   "metadata": {},
   "source": [
    "And there is a `flat` attribute which can be used for things like iterating more easily:"
   ]
  },
  {
   "cell_type": "code",
   "execution_count": null,
   "id": "a03c72d8",
   "metadata": {},
   "outputs": [],
   "source": [
    "tds.flat[0]"
   ]
  },
  {
   "cell_type": "code",
   "execution_count": null,
   "id": "f9b43de6",
   "metadata": {},
   "outputs": [],
   "source": [
    "for tile in tds.flat:\n",
    "    print(tile.headers['DATE-AVG'])"
   ]
  },
  {
   "cell_type": "markdown",
   "id": "24256e19",
   "metadata": {},
   "source": [
    "However, if we want to look at all the component datasets but only a portion of each then we can index with `slice_tiles`. So to get only the first time step of each tile:"
   ]
  },
  {
   "cell_type": "code",
   "execution_count": null,
   "id": "30b6f694",
   "metadata": {},
   "outputs": [],
   "source": [
    "tds.slice_tiles[0]"
   ]
  },
  {
   "cell_type": "markdown",
   "id": "5c718256",
   "metadata": {},
   "source": [
    "Notice that this gives us a new `TiledDataset` with the same number of tiles but smaller datasets.\n",
    "\n",
    "Similarly if we want to crop the edges of each tile, we can index just as easily in the spatial dimensions:"
   ]
  },
  {
   "cell_type": "code",
   "execution_count": null,
   "id": "3a4fa5de",
   "metadata": {},
   "outputs": [],
   "source": [
    "tds.slice_tiles[:, 1024:-1024, 1024:-1024]"
   ]
  },
  {
   "cell_type": "markdown",
   "id": "997e85c0",
   "metadata": {},
   "source": [
    "## Irregular `TiledDataset`s\n",
    "\n",
    "As seen above, the default mode for VBI is to take data so that tiles overlap only slightly to form a larger image.\n",
    "However, some experiments might use an irregular arrangement of tiles with greater overlap, for with the main image being composed of four tiles together and a fifth in the centre overlapping all four.\n",
    "For cases like these, `TiledDataset` supports masking tiles.\n",
    "In this example the tiles would be stored as a 3x3 grid with the middle tile on each edge masked out.\n",
    "\n",
    "Which tiles should be masked is determined by the `.mask` attribute, which we can edit manually."
   ]
  },
  {
   "cell_type": "code",
   "execution_count": null,
   "id": "d1796cca",
   "metadata": {},
   "outputs": [],
   "source": [
    "tds.mask = [[False, True, False], [True, False, True], [False, True, False]]\n",
    "tds"
   ]
  },
  {
   "cell_type": "markdown",
   "id": "d845a563",
   "metadata": {},
   "source": [
    "Notice that although the `TiledDataset` is still a 3x3 grid, the total number of frames given is 15 rather than 27, because it has skipped the masked tiles (even though in this case the data are still actually there).\n",
    "Other methods will also skip any masked tiles:"
   ]
  },
  {
   "cell_type": "code",
   "execution_count": null,
   "id": "6094bef0",
   "metadata": {},
   "outputs": [],
   "source": [
    "tds.tiles_shape"
   ]
  },
  {
   "cell_type": "code",
   "execution_count": null,
   "id": "99f363a9",
   "metadata": {},
   "outputs": [],
   "source": [
    "for tile in tds.flat:\n",
    "\tprint(tile.headers['DATE-AVG'])"
   ]
  },
  {
   "cell_type": "markdown",
   "id": "a2c9aa54",
   "metadata": {},
   "source": [
    "However, be careful of iterating over the whole grid of tiles manually, as this will not skip the masked tiles and may break."
   ]
  },
  {
   "cell_type": "code",
   "execution_count": null,
   "id": "97d15776",
   "metadata": {
    "tags": [
     "skip-execution"
    ]
   },
   "outputs": [],
   "source": [
    "for row in tds:\n",
    "    for tile in row:\n",
    "        print(tile[0].headers['DATE-AVG'])"
   ]
  }
 ],
 "metadata": {
  "jupytext": {
   "default_lexer": "ipython3"
  },
  "kernelspec": {
   "display_name": "Python 3 (ipykernel)",
   "language": "python",
   "name": "python3"
  }
 },
 "nbformat": 4,
 "nbformat_minor": 5
}
