{
 "cells": [
  {
   "cell_type": "markdown",
   "id": "b0159822",
   "metadata": {},
   "source": [
    "# TiledDataset\n",
    "\n",
    "So far all our examples have used the base {obj}`dkist.Dataset` class with VISP data.\n",
    "In this way we have demonstrated the most important features of the Python tools for working with DKIST data, but some data do not quite fit into the base `Dataset` structure.\n",
    "Specifically, VBI data consist of distinct image tiles forming a larger mosaic image.\n",
    "The individual tiles of the image are not combined by the Data Center into a single image, since this would involve interpolation at the tile edges and this is left to the user to make their own choices about.\n",
    "Instead the tiles are kept separate but must therefore be considered as separate images by the `Dataset` object.\n",
    "\n",
    "For this purpose the Python tools have the {obj}`dkist.TiledDataset` class, which is essentially a 2D array of `Dataset` objects, with some helper functions to make it easier to work with those `Dataset`s either individually or together.\n",
    "\n",
    "To see `TiledDataset` in action we'll load some VBI data. We'll use the VBI data from the sample datasets, which is accessible in the same way as the VISP dataset we used before"
   ]
  },
  {
   "cell_type": "code",
   "execution_count": null,
   "id": "71569db8",
   "metadata": {},
   "outputs": [],
   "source": [
    "import dkist\n",
    "from dkist.data.sample import VBI_AJQWW\n",
    "\n",
    "VBI_AJQWW"
   ]
  },
  {
   "cell_type": "markdown",
   "id": "73742295",
   "metadata": {},
   "source": [
    "Now let's use that file path to create a `TiledDataset`. This is done in exactly the same way as for a regular `Dataset`, using `load_dataset()`:"
   ]
  },
  {
   "cell_type": "code",
   "execution_count": null,
   "id": "c25f3e60",
   "metadata": {},
   "outputs": [],
   "source": [
    "tds = dkist.load_dataset(VBI_AJQWW)\n",
    "tds"
   ]
  },
  {
   "cell_type": "markdown",
   "id": "ecfe5d95",
   "metadata": {},
   "source": [
    "You will see that this output looks very similar to the output for our VISP dataset in previous examples.\n",
    "We still have information about the number and type of pixel and world dimensions in the constituent datasets, and the correlations between them.\n",
    "(Note: this information is taken from the first tile and assumes it is the same for all tiles.) In this case the output also tells us that this is a 3x3 array of `Dataset`s with 27 frames in total.\n",
    "\n",
    "Some of this basic information is also available as attributes on the `TiledDataset`, just as it is with `Dataset`. For instance the shape of the array of tiles:"
   ]
  },
  {
   "cell_type": "code",
   "execution_count": null,
   "id": "c550fca0",
   "metadata": {},
   "outputs": [],
   "source": [
    "tds.shape"
   ]
  },
  {
   "cell_type": "markdown",
   "id": "a4994d71",
   "metadata": {},
   "source": [
    "This is not to be confused with the shapes of the tiles themselves:"
   ]
  },
  {
   "cell_type": "code",
   "execution_count": null,
   "id": "b421b391",
   "metadata": {},
   "outputs": [],
   "source": [
    "tds.tiles_shape"
   ]
  },
  {
   "cell_type": "markdown",
   "id": "1b3be798",
   "metadata": {},
   "source": [
    "`TiledDataset` also keeps the `.inventory` attribute containing important metadata about the dataset:"
   ]
  },
  {
   "cell_type": "code",
   "execution_count": null,
   "id": "5789cd05",
   "metadata": {},
   "outputs": [],
   "source": [
    "tds.inventory"
   ]
  },
  {
   "cell_type": "markdown",
   "id": "dbe1c3bb",
   "metadata": {},
   "source": [
    "And the headers for all the datasets are stored as `combined_headers`:"
   ]
  },
  {
   "cell_type": "code",
   "execution_count": null,
   "id": "97b6a5a2",
   "metadata": {},
   "outputs": [],
   "source": [
    "tds.combined_headers"
   ]
  },
  {
   "cell_type": "markdown",
   "id": "d8835336",
   "metadata": {},
   "source": [
    "Of course, since `TiledDataset` is array-like, we can also index it to access individual tiles."
   ]
  },
  {
   "cell_type": "code",
   "execution_count": null,
   "id": "d0ab7571",
   "metadata": {},
   "outputs": [],
   "source": [
    "tds[0, 0]"
   ]
  },
  {
   "cell_type": "markdown",
   "id": "ae55e3d0",
   "metadata": {},
   "source": [
    "And there is a `flat` attribute which can be used for things like iterating more easily:"
   ]
  },
  {
   "cell_type": "code",
   "execution_count": null,
   "id": "81e50f8a",
   "metadata": {},
   "outputs": [],
   "source": [
    "tds.flat[0]"
   ]
  },
  {
   "cell_type": "code",
   "execution_count": null,
   "id": "6ab10d32",
   "metadata": {},
   "outputs": [],
   "source": [
    "for tile in tds.flat:\n",
    "    print(tile.headers['DATE-AVG'])"
   ]
  },
  {
   "cell_type": "markdown",
   "id": "f6e1bc4a",
   "metadata": {},
   "source": [
    "However, if we want to look at all the component datasets but only a portion of each then we can index with `slice_tiles`. So to get only the first time step of each tile:"
   ]
  },
  {
   "cell_type": "code",
   "execution_count": null,
   "id": "d605becb",
   "metadata": {},
   "outputs": [],
   "source": [
    "tds.slice_tiles[0]"
   ]
  },
  {
   "cell_type": "markdown",
   "id": "2d1e323e",
   "metadata": {},
   "source": [
    "Notice that this gives us a new `TiledDataset` with the same number of tiles but smaller datasets.\n",
    "\n",
    "Similarly if we want to crop the edges of each tile, we can index just as easily in the spatial dimensions:"
   ]
  },
  {
   "cell_type": "code",
   "execution_count": null,
   "id": "a1640d4c",
   "metadata": {},
   "outputs": [],
   "source": [
    "tds.slice_tiles[:, 1024:-1024, 1024:-1024]"
   ]
  },
  {
   "cell_type": "markdown",
   "id": "1b4cee4e",
   "metadata": {},
   "source": [
    "## Irregular `TiledDataset`s\n",
    "\n",
    "As seen above, the default mode for VBI is to take data so that tiles overlap only slightly to form a larger image.\n",
    "However, some experiments might use an irregular arrangement of tiles with greater overlap, for with the main image being composed of four tiles together and a fifth in the centre overlapping all four.\n",
    "For cases like these, `TiledDataset` supports masking tiles.\n",
    "In this example the tiles would be stored as a 3x3 grid with the middle tile on each edge masked out.\n",
    "\n",
    "Which tiles should be masked is determined by the `.mask` attribute, which we can edit manually."
   ]
  },
  {
   "cell_type": "code",
   "execution_count": null,
   "id": "d346b491",
   "metadata": {},
   "outputs": [],
   "source": [
    "tds.mask = [[False, True, False], [True, False, True], [False, True, False]]\n",
    "tds"
   ]
  },
  {
   "cell_type": "markdown",
   "id": "8cdf9ba4",
   "metadata": {},
   "source": [
    "Notice that although the `TiledDataset` is still a 3x3 grid, the total number of frames given is 15 rather than 27, because it has skipped the masked tiles (even though in this case the data are still actually there).\n",
    "Other methods will also skip any masked tiles:"
   ]
  },
  {
   "cell_type": "code",
   "execution_count": null,
   "id": "12296533",
   "metadata": {},
   "outputs": [],
   "source": [
    "tds.tiles_shape"
   ]
  },
  {
   "cell_type": "code",
   "execution_count": null,
   "id": "ec49bc59",
   "metadata": {},
   "outputs": [],
   "source": [
    "for tile in tds.flat:\n",
    "\tprint(tile.headers['DATE-AVG'])"
   ]
  },
  {
   "cell_type": "markdown",
   "id": "853d16bb",
   "metadata": {},
   "source": [
    "However, be careful of iterating over the whole grid of tiles manually, as this will not skip the masked tiles and may break."
   ]
  },
  {
   "cell_type": "code",
   "execution_count": null,
   "id": "e2ae7798",
   "metadata": {
    "tags": [
     "skip-execution"
    ]
   },
   "outputs": [],
   "source": [
    "for row in tds:\n",
    "    for tile in row:\n",
    "        print(tile[0].headers['DATE-AVG'])"
   ]
  }
 ],
 "metadata": {
  "jupytext": {
   "default_lexer": "ipython3"
  },
  "kernelspec": {
   "display_name": "Python 3 (ipykernel)",
   "language": "python",
   "name": "python3"
  }
 },
 "nbformat": 4,
 "nbformat_minor": 5
}
