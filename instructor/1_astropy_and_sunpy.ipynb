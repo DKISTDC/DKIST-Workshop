{
 "cells": [
  {
   "cell_type": "markdown",
   "id": "3f5e2cb3",
   "metadata": {},
   "source": [
    "(dkist:tutorial:astropy-and-sunpy)=\n",
    "# Astropy and SunPy - A Quick Primer\n",
    "\n",
    "This chapter will cover the basic functionality of SunPy and Astropy which is relevant to the `dkist` package.\n",
    "There are many other parts of these packages which are useful when working with DKIST data, which you should explore in their respective documentation pages.\n",
    "See [here for SunPy's documentation](https://docs.sunpy.org/) and [here for astropy's](https://docs.astropy.org/).\n",
    "\n",
    "In this chapter you will:\n",
    "\n",
    "* Convert values between different physical units\n",
    "* Define spatial and spectral coordinates\n",
    "* Convert between world and pixel coordinate systems\n",
    "\n",
    "## Units\n",
    "\n",
    "Astropy provides a subpackage {obj}`astropy.units` which provides tools for associating physical units with numbers and arrays.\n",
    "This lets you do mathematical operations on these arrays while propagating the units.\n",
    "\n",
    "To get started we import `astropy.units`.\n",
    "Because we are going to be using this a lot, we import it as `u`."
   ]
  },
  {
   "cell_type": "code",
   "execution_count": null,
   "id": "d75ceee7",
   "metadata": {},
   "outputs": [],
   "source": [
    "import astropy.units as u"
   ]
  },
  {
   "cell_type": "markdown",
   "id": "29b889b0",
   "metadata": {},
   "source": [
    "Now we can access various physical units defined in astropy, such as metres or kilograms:"
   ]
  },
  {
   "cell_type": "code",
   "execution_count": null,
   "id": "bea21b28",
   "metadata": {},
   "outputs": [],
   "source": [
    "u.m"
   ]
  },
  {
   "cell_type": "code",
   "execution_count": null,
   "id": "224f2c4d",
   "metadata": {},
   "outputs": [],
   "source": [
    "u.kg"
   ]
  },
  {
   "cell_type": "markdown",
   "id": "335aac65",
   "metadata": {},
   "source": [
    "We can also attach a unit to a number to create a quantity:"
   ]
  },
  {
   "cell_type": "code",
   "execution_count": null,
   "id": "2e8c8c98",
   "metadata": {},
   "outputs": [],
   "source": [
    "length = 10 * u.m\n",
    "length"
   ]
  },
  {
   "cell_type": "markdown",
   "id": "c87c4be8",
   "metadata": {},
   "source": [
    "And use multiple quantities in a calculation:"
   ]
  },
  {
   "cell_type": "code",
   "execution_count": null,
   "id": "11c8df77",
   "metadata": {},
   "outputs": [],
   "source": [
    "time = 30 * u.min\n",
    "speed = length / time\n",
    "speed"
   ]
  },
  {
   "cell_type": "markdown",
   "id": "268b7712",
   "metadata": {},
   "source": [
    "Using the `.to()` method on a `u.Quantity` object lets you convert a quantity to a different unit."
   ]
  },
  {
   "cell_type": "code",
   "execution_count": null,
   "id": "d2a71ee7",
   "metadata": {},
   "outputs": [],
   "source": [
    "speed.to(u.km/u.h)"
   ]
  },
  {
   "cell_type": "markdown",
   "id": "c6e1f9a2",
   "metadata": {},
   "source": [
    "### Equivalencies\n",
    "\n",
    "Some conversions are not done by a conversion factor as between miles and kilometers – for example converting between wavelength and frequency:"
   ]
  },
  {
   "cell_type": "code",
   "execution_count": null,
   "id": "7797dbcf",
   "metadata": {
    "tags": [
     "raises-exception"
    ]
   },
   "outputs": [],
   "source": [
    "(656.281 * u.nm).to(u.Hz)  # Fails because they are not compatible"
   ]
  },
  {
   "cell_type": "markdown",
   "id": "06754d28",
   "metadata": {},
   "source": [
    "However we can make use of a spectral *equivalency* to indicate the link between the units:"
   ]
  },
  {
   "cell_type": "code",
   "execution_count": null,
   "id": "f85b6946",
   "metadata": {},
   "outputs": [],
   "source": [
    "(656.281 * u.nm).to(u.Hz, equivalencies=u.spectral())"
   ]
  },
  {
   "cell_type": "markdown",
   "id": "1382ef78",
   "metadata": {},
   "source": [
    "### Constants\n",
    "\n",
    "The `astropy.constants` sub-package provides a set of physical constants which are compatible with the units/quantities framework:"
   ]
  },
  {
   "cell_type": "code",
   "execution_count": null,
   "id": "927f681a",
   "metadata": {},
   "outputs": [],
   "source": [
    "from astropy.constants import M_sun, c"
   ]
  },
  {
   "cell_type": "code",
   "execution_count": null,
   "id": "78594722",
   "metadata": {},
   "outputs": [],
   "source": [
    "E = M_sun * c ** 2\n",
    "E.to(u.J)"
   ]
  },
  {
   "cell_type": "markdown",
   "id": "2f2cc55d",
   "metadata": {},
   "source": [
    "## Coordinates\n",
    "\n",
    "The Astropy coordinates submodule {obj}`astropy.coordinates` provides classes to represent physical coordinates with all their associated metadata, and transform them between different coordinate systems.\n",
    "Currently, {obj}`astropy.coordinates` supports:\n",
    "\n",
    "* Spatial coordinates via {obj}`astropy.coordinates.SkyCoord`\n",
    "* Spectral coordinates via {obj}`astropy.coordinates.SpectralCoord`\n",
    "* Stokes profiles via {obj}`astropy.coordinates.StokesCoord` (introduced in astropy 7.0)\n",
    "\n",
    "### Spatial Coordinates\n",
    "\n",
    "SunPy provides extensions to the Astropy coordinate system to represent common solar physics frames.\n",
    "So to use the sunpy coordinates we have to first import {obj}`sunpy.coordinates` which registers them with astropy."
   ]
  },
  {
   "cell_type": "code",
   "execution_count": null,
   "id": "644e4398",
   "metadata": {},
   "outputs": [],
   "source": [
    "import sunpy.coordinates\n",
    "from astropy.coordinates import SkyCoord"
   ]
  },
  {
   "cell_type": "markdown",
   "id": "d9451aeb",
   "metadata": {},
   "source": [
    "We can now create a `SkyCoord` object representing a point on the Sun:"
   ]
  },
  {
   "cell_type": "code",
   "execution_count": null,
   "id": "0c85a8ea",
   "metadata": {},
   "outputs": [],
   "source": [
    "SkyCoord(10*u.arcsec, 20*u.arcsec, frame=\"helioprojective\")"
   ]
  },
  {
   "cell_type": "markdown",
   "id": "6862179e",
   "metadata": {},
   "source": [
    "This is the most minimal version of this coordinate frame, however, it isn't very useful as we haven't provided enough information to be able to transform it to other frames.\n",
    "This is because helioprojective is an observer centred coordinate frame, so we need to know where in inertial space the observer is.\n",
    "One way of doing this is to say the observer is on Earth at a specific time:"
   ]
  },
  {
   "cell_type": "code",
   "execution_count": null,
   "id": "46e40f0c",
   "metadata": {},
   "outputs": [],
   "source": [
    "hpc1 = SkyCoord(10*u.arcsec, 20*u.arcsec, frame=\"helioprojective\",\n",
    "                obstime=\"2023-05-21T04:00:00\", observer=\"earth\")\n",
    "hpc1"
   ]
  },
  {
   "cell_type": "markdown",
   "id": "3278ed6c",
   "metadata": {},
   "source": [
    "This coordinate can now be converted to other frames, such as heliographic coordinates:"
   ]
  },
  {
   "cell_type": "code",
   "execution_count": null,
   "id": "c5493174",
   "metadata": {},
   "outputs": [],
   "source": [
    "hpc1.transform_to(\"heliographic_stonyhurst\")"
   ]
  },
  {
   "cell_type": "markdown",
   "id": "bdbea452",
   "metadata": {},
   "source": [
    "There are few things to notice about the difference between these two `SkyCoord` objects:\n",
    "\n",
    "1. The default representation of the latitude and longitude is now in degrees as is conventional.\n",
    "1. The heliographic frame is three dimensional (it has a radius), when the input frame was not. This is because the distance from the observer was calculated using the `rsun` attribute.\n",
    "1. The `obstime` and `rsun` attributes are still present, but the `observer` attribute isn't. This is because heliographic coordinates are not observer dependent.\n",
    "1. The `obstime` attribute is still important to transform to other frames, as the heliographic frame needs to know the location of Earth.\n",
    "\n",
    "### Spectral Coordinates\n",
    "\n",
    "{obj}`astropy.coordinates.SpectralCoord` is a `Quantity`-like object which also holds information about the observer and target coordinates and relative velocities.\n",
    "\n",
    "```{note}\n",
    "Use of `SpectralCoord` with solar data is still experimental so not all features may work, or be accurate.\n",
    "```"
   ]
  },
  {
   "cell_type": "code",
   "execution_count": null,
   "id": "48c35fa1",
   "metadata": {},
   "outputs": [],
   "source": [
    "from astropy.coordinates import SpectralCoord\n",
    "from sunpy.coordinates import get_earth"
   ]
  },
  {
   "cell_type": "markdown",
   "id": "4568d0a8",
   "metadata": {},
   "source": [
    "`SpectralCoord` does not automatically make the HPC coordinate 3D, but wants the distance, so we do it explicitally:"
   ]
  },
  {
   "cell_type": "code",
   "execution_count": null,
   "id": "bdd9ec03",
   "metadata": {},
   "outputs": [],
   "source": [
    "hpc2 = hpc1.make_3d()"
   ]
  },
  {
   "cell_type": "markdown",
   "id": "5e212794",
   "metadata": {},
   "source": [
    "Now we can construct our spectral coordinate with both a target and an observer"
   ]
  },
  {
   "cell_type": "code",
   "execution_count": null,
   "id": "3b4f5318",
   "metadata": {},
   "outputs": [],
   "source": [
    "spc = SpectralCoord(586.3 * u.nm, target=hpc2, observer=get_earth(time=hpc2.obstime))\n",
    "spc"
   ]
  },
  {
   "cell_type": "markdown",
   "id": "9874f6a3",
   "metadata": {},
   "source": [
    "(If you're viewing this document in Jupyter notebook form you may have to work around a [bug in astropy](https://github.com/astropy/astropy/issues/14758) to display `spc` properly):"
   ]
  },
  {
   "cell_type": "code",
   "execution_count": null,
   "id": "44078eac",
   "metadata": {},
   "outputs": [],
   "source": [
    "print(repr(spc))"
   ]
  },
  {
   "cell_type": "markdown",
   "id": "6cb4e68a",
   "metadata": {},
   "source": [
    "## World Coordinate System\n",
    "\n",
    "One of the other core components of the ecosystem provided by Astropy is the {obj}`astropy.wcs` package which provides tools for mapping pixel to world coordinates and world to pixel.\n",
    "When loading a FITS file with complete (and standard compliant) WCS metadata we can create an `astropy.wcs.WCS` object.\n",
    "For this example we will use a sample VISP header distributed with the `dkist` package."
   ]
  },
  {
   "cell_type": "code",
   "execution_count": null,
   "id": "215998c2",
   "metadata": {},
   "outputs": [],
   "source": [
    "import sunpy.coordinates"
   ]
  },
  {
   "cell_type": "markdown",
   "id": "cb25c61a",
   "metadata": {},
   "source": [
    "To read this FITS file we will use {obj}`astropy.io.fits` (you can also use `sunpy` for this)."
   ]
  },
  {
   "cell_type": "code",
   "execution_count": null,
   "id": "58dac470",
   "metadata": {},
   "outputs": [],
   "source": [
    "from dkist.data.sample import VISP_HEADER"
   ]
  },
  {
   "cell_type": "markdown",
   "id": "a3912eb4",
   "metadata": {},
   "source": [
    "Using this header we can create a `astropy.wcs.WCS` object:"
   ]
  },
  {
   "cell_type": "code",
   "execution_count": null,
   "id": "26ecf6e0",
   "metadata": {},
   "outputs": [],
   "source": [
    "from astropy.wcs import WCS\n",
    "\n",
    "wcs = WCS(VISP_HEADER)\n",
    "wcs"
   ]
  },
  {
   "cell_type": "markdown",
   "id": "c82cdbc7",
   "metadata": {},
   "source": [
    "This WCS object allows us to convert between pixel and world coordinates, for example:"
   ]
  },
  {
   "cell_type": "code",
   "execution_count": null,
   "id": "749732e3",
   "metadata": {},
   "outputs": [],
   "source": [
    "wcs.pixel_to_world(1024, 400, 1)"
   ]
  },
  {
   "cell_type": "markdown",
   "id": "7f5727a5",
   "metadata": {},
   "source": [
    "This call returns a {obj}`astropy.coordinates.SkyCoord` object (which needs sunpy to be imported), we will come onto this more later.\n",
    "\n",
    "We can also convert between pixel and plain numbers:"
   ]
  },
  {
   "cell_type": "code",
   "execution_count": null,
   "id": "f145c6aa",
   "metadata": {},
   "outputs": [],
   "source": [
    "wcs.pixel_to_world_values(1024, 400, 1)"
   ]
  },
  {
   "cell_type": "markdown",
   "id": "ef069b70",
   "metadata": {},
   "source": [
    "The units for these values are given by:"
   ]
  },
  {
   "cell_type": "code",
   "execution_count": null,
   "id": "2f01af52",
   "metadata": {},
   "outputs": [],
   "source": [
    "wcs.world_axis_units"
   ]
  },
  {
   "cell_type": "markdown",
   "id": "f2636076",
   "metadata": {},
   "source": [
    "The WCS also has information about what the world axes represent:"
   ]
  },
  {
   "cell_type": "code",
   "execution_count": null,
   "id": "968f3185",
   "metadata": {},
   "outputs": [],
   "source": [
    "wcs.world_axis_physical_types"
   ]
  },
  {
   "cell_type": "markdown",
   "id": "bf6f7368",
   "metadata": {},
   "source": [
    "We can also inspect the correlation between the world axes and pixel axes:"
   ]
  },
  {
   "cell_type": "code",
   "execution_count": null,
   "id": "f7ab18c3",
   "metadata": {},
   "outputs": [],
   "source": [
    "wcs.axis_correlation_matrix"
   ]
  },
  {
   "cell_type": "markdown",
   "id": "9ffc6094",
   "metadata": {},
   "source": [
    "This correlation matrix has the world dimensions as rows, and the pixel dimensions as columns.\n",
    "Here we have a 2D image, with two pixel and two world axes where both are coupled together.\n",
    "This means that to calculate either latitude or longitude you need both pixel coordinates."
   ]
  }
 ],
 "metadata": {
  "jupytext": {
   "default_lexer": "python"
  },
  "kernelspec": {
   "display_name": "Python 3",
   "language": "python",
   "name": "python3"
  }
 },
 "nbformat": 4,
 "nbformat_minor": 5
}
