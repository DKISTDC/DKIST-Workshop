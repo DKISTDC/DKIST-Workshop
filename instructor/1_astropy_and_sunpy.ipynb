{
 "cells": [
  {
   "cell_type": "markdown",
   "id": "ba0a3c71",
   "metadata": {},
   "source": [
    "(dkist:tutorial:astropy-and-sunpy)=\n",
    "# Astropy and SunPy - A Quick Primer\n",
    "\n",
    "This tutorial will cover the basic functionality of SunPy and Astropy which is relevant to the `dkist` package.\n",
    "There are many other parts of these packages which are useful when working with DKIST data, which you should explore in their respective documentation pages.\n",
    "See [here for SunPy's documentation](https://docs.sunpy.org/) and [here for astropy's](https://docs.astropy.org/).\n",
    "\n",
    "In this tutorial you will:\n",
    "\n",
    "* Convert values between different physical units\n",
    "* Define spatial and spectral coordinates\n",
    "* Convert between world and pixel coordinate systems\n",
    "\n",
    "## Units\n",
    "\n",
    "Astropy provides a subpackage {obj}`astropy.units` which provides tools for associating physical units with numbers and arrays.\n",
    "This lets you do mathematical operations on these arrays while propagating the units.\n",
    "\n",
    "To get started we import `astropy.units`.\n",
    "Because we are going to be using this a lot, we import it as `u`."
   ]
  },
  {
   "cell_type": "code",
   "execution_count": null,
   "id": "affb7431",
   "metadata": {},
   "outputs": [],
   "source": [
    "import astropy.units as u"
   ]
  },
  {
   "cell_type": "markdown",
   "id": "0da08d54",
   "metadata": {},
   "source": [
    "Now we can access various physical units defined in astropy, such as metres or kilograms:"
   ]
  },
  {
   "cell_type": "code",
   "execution_count": null,
   "id": "09a43e1f",
   "metadata": {},
   "outputs": [],
   "source": [
    "u.m"
   ]
  },
  {
   "cell_type": "code",
   "execution_count": null,
   "id": "33bec2cf",
   "metadata": {},
   "outputs": [],
   "source": [
    "u.kg"
   ]
  },
  {
   "cell_type": "markdown",
   "id": "023f999b",
   "metadata": {},
   "source": [
    "We can also attach a unit to a number to create a quantity:"
   ]
  },
  {
   "cell_type": "code",
   "execution_count": null,
   "id": "7e17c0ab",
   "metadata": {},
   "outputs": [],
   "source": [
    "length = 10 * u.m\n",
    "length"
   ]
  },
  {
   "cell_type": "markdown",
   "id": "45e9dc0f",
   "metadata": {},
   "source": [
    "And use multiple quantities in a calculation:"
   ]
  },
  {
   "cell_type": "code",
   "execution_count": null,
   "id": "d59fcad2",
   "metadata": {},
   "outputs": [],
   "source": [
    "time = 30 * u.min\n",
    "speed = length / time\n",
    "speed"
   ]
  },
  {
   "cell_type": "markdown",
   "id": "52b8dd7a",
   "metadata": {},
   "source": [
    "Using the `.to()` method on a `u.Quantity` object lets you convert a quantity to a different unit."
   ]
  },
  {
   "cell_type": "code",
   "execution_count": null,
   "id": "f1b8dfaa",
   "metadata": {},
   "outputs": [],
   "source": [
    "speed.to(u.km/u.h)"
   ]
  },
  {
   "cell_type": "markdown",
   "id": "2f1f8bdb",
   "metadata": {},
   "source": [
    "## Coordinates\n",
    "\n",
    "The Astropy coordinates submodule {obj}`astropy.coordinates` provides classes to represent physical coordinates with all their associated metadata, and transform them between different coordinate systems.\n",
    "Currently, {obj}`astropy.coordinates` supports:\n",
    "\n",
    "* Spatial coordinates via {obj}`astropy.coordinates.SkyCoord`\n",
    "* Spectral coordinates via {obj}`astropy.coordinates.SpectralCoord`\n",
    "* Stokes profiles via {obj}`astropy.coordinates.StokesCoord` (coming soon)\n",
    "\n",
    "### Spatial Coordinates\n",
    "\n",
    "SunPy provides extensions to the Astropy coordinate system to represent common solar physics frames.\n",
    "So to use the sunpy coordinates we have to first import {obj}`sunpy.coordinates` which registers them with astropy."
   ]
  },
  {
   "cell_type": "code",
   "execution_count": null,
   "id": "cd7b8e49",
   "metadata": {},
   "outputs": [],
   "source": [
    "import sunpy.coordinates\n",
    "from astropy.coordinates import SkyCoord"
   ]
  },
  {
   "cell_type": "markdown",
   "id": "f35a9cfe",
   "metadata": {},
   "source": [
    "We can now create a `SkyCoord` object representing a point on the Sun:"
   ]
  },
  {
   "cell_type": "code",
   "execution_count": null,
   "id": "93669bd1",
   "metadata": {},
   "outputs": [],
   "source": [
    "SkyCoord(10*u.arcsec, 20*u.arcsec, frame=\"helioprojective\")"
   ]
  },
  {
   "cell_type": "markdown",
   "id": "a37dbb80",
   "metadata": {},
   "source": [
    "This is the most minimal version of this coordinate frame, however, it isn't very useful as we haven't provided enough information to be able to transform it to other frames.\n",
    "This is because helioprojective is an observer centred coordinate frame, so we need to know where in inertial space the observer is.\n",
    "One way of doing this is to say the observer is on Earth at a specific time:"
   ]
  },
  {
   "cell_type": "code",
   "execution_count": null,
   "id": "146a09a5",
   "metadata": {},
   "outputs": [],
   "source": [
    "hpc1 = SkyCoord(10*u.arcsec, 20*u.arcsec, frame=\"helioprojective\",\n",
    "                obstime=\"2023-05-21T04:00:00\", observer=\"earth\")\n",
    "hpc1"
   ]
  },
  {
   "cell_type": "markdown",
   "id": "4146d847",
   "metadata": {},
   "source": [
    "This coordinate can now be converted to other frames, such as heliographic coordinates:"
   ]
  },
  {
   "cell_type": "code",
   "execution_count": null,
   "id": "ac3112b0",
   "metadata": {},
   "outputs": [],
   "source": [
    "hpc1.transform_to(\"heliographic_stonyhurst\")"
   ]
  },
  {
   "cell_type": "markdown",
   "id": "6801f539",
   "metadata": {},
   "source": [
    "There are few things to notice about the difference between these two `SkyCoord` objects:\n",
    "\n",
    "1. The default representation of the latitude and longitude is now in degrees as is conventional.\n",
    "1. The heliographic frame is three dimensional (it has a radius), when the input frame was not. This is because the distance from the observer was calculated using the `rsun` attribute.\n",
    "1. The `obstime` and `rsun` attributes are still present, but the `observer` attribute isn't. This is because heliographic coordinates are not observer dependent.\n",
    "1. The `obstime` attribute is still important to transform to other frames, as the heliographic frame needs to know the location of Earth.\n",
    "\n",
    "### Spectral Coordinates\n",
    "\n",
    "{obj}`astropy.coordinates.SpectralCoord` is a `Quantity` like object which also holds information about the observer and target coordinates and relative velocities.\n",
    "\n",
    "```{note}\n",
    "Use of `SpectralCoord` with solar data is still experimental so not all features may work, or be accurate.\n",
    "```"
   ]
  },
  {
   "cell_type": "code",
   "execution_count": null,
   "id": "130105c8",
   "metadata": {},
   "outputs": [],
   "source": [
    "from astropy.coordinates import SpectralCoord\n",
    "from sunpy.coordinates import get_earth"
   ]
  },
  {
   "cell_type": "markdown",
   "id": "fad3a5bd",
   "metadata": {},
   "source": [
    "`SpectralCoord` does not automatically make the HPC coordinate 3D, but wants the distance, so we do it explicitally:"
   ]
  },
  {
   "cell_type": "code",
   "execution_count": null,
   "id": "59bbaa92",
   "metadata": {},
   "outputs": [],
   "source": [
    "hpc2 = hpc1.make_3d()"
   ]
  },
  {
   "cell_type": "markdown",
   "id": "7620110b",
   "metadata": {},
   "source": [
    "Now we can construct our spectral coordinate with both a target and an observer"
   ]
  },
  {
   "cell_type": "code",
   "execution_count": null,
   "id": "76026be5",
   "metadata": {},
   "outputs": [],
   "source": [
    "spc = SpectralCoord(586.3 * u.nm, target=hpc2, observer=get_earth(time=hpc2.obstime))\n",
    "spc"
   ]
  },
  {
   "cell_type": "markdown",
   "id": "a72e10c8",
   "metadata": {},
   "source": [
    "We can show the full details of the spectral coord (working around a bug in astropy):"
   ]
  },
  {
   "cell_type": "code",
   "execution_count": null,
   "id": "ece29faa",
   "metadata": {},
   "outputs": [],
   "source": [
    "print(repr(spc))"
   ]
  },
  {
   "cell_type": "markdown",
   "id": "2cbc7bcc",
   "metadata": {},
   "source": [
    "## World Coordinate System\n",
    "\n",
    "One of the other core components of the ecosystem provided by Astropy is the {obj}`astropy.wcs` package which provides tools for mapping pixel to world coordinates and world to pixel.\n",
    "When loading a FITS file with complete (and standard compliant) WCS metadata we can create an `astropy.wcs.WCS` object.\n",
    "For the this example we will use a sample VISP header distributed with the `dkist` package."
   ]
  },
  {
   "cell_type": "code",
   "execution_count": null,
   "id": "af0a725d",
   "metadata": {},
   "outputs": [],
   "source": [
    "import sunpy.coordinates"
   ]
  },
  {
   "cell_type": "markdown",
   "id": "2d312dcc",
   "metadata": {},
   "source": [
    "To read this FITS file we will use {obj}`astropy.io.fits` (you can also use `sunpy` for this)."
   ]
  },
  {
   "cell_type": "code",
   "execution_count": null,
   "id": "e364104c",
   "metadata": {},
   "outputs": [],
   "source": [
    "from dkist.data.sample import VISP_HEADER"
   ]
  },
  {
   "cell_type": "markdown",
   "id": "6f6dfd50",
   "metadata": {},
   "source": [
    "Using this header we can create a `astropy.wcs.WCS` object:"
   ]
  },
  {
   "cell_type": "code",
   "execution_count": null,
   "id": "8bba4426",
   "metadata": {},
   "outputs": [],
   "source": [
    "from astropy.wcs import WCS\n",
    "\n",
    "wcs = WCS(VISP_HEADER)\n",
    "wcs"
   ]
  },
  {
   "cell_type": "markdown",
   "id": "b01e604d",
   "metadata": {},
   "source": [
    "This WCS object allows us to convert between pixel and world coordinates, for example:"
   ]
  },
  {
   "cell_type": "code",
   "execution_count": null,
   "id": "124d47e5",
   "metadata": {},
   "outputs": [],
   "source": [
    "wcs.pixel_to_world(1024, 400, 1)"
   ]
  },
  {
   "cell_type": "markdown",
   "id": "9801a272",
   "metadata": {},
   "source": [
    "This call returns a {obj}`astropy.coordinates.SkyCoord` object (which needs sunpy to be imported), we will come onto this more later.\n",
    "\n",
    "We can also convert between pixel and plain numbers:"
   ]
  },
  {
   "cell_type": "code",
   "execution_count": null,
   "id": "644dcc3f",
   "metadata": {},
   "outputs": [],
   "source": [
    "wcs.pixel_to_world_values(1024, 400, 1)"
   ]
  },
  {
   "cell_type": "markdown",
   "id": "8f78842a",
   "metadata": {},
   "source": [
    "The units for these values are given by:"
   ]
  },
  {
   "cell_type": "code",
   "execution_count": null,
   "id": "41cc70e8",
   "metadata": {},
   "outputs": [],
   "source": [
    "wcs.world_axis_units"
   ]
  },
  {
   "cell_type": "markdown",
   "id": "1bda55b8",
   "metadata": {},
   "source": [
    "The WCS also has information about what the world axes represent:"
   ]
  },
  {
   "cell_type": "code",
   "execution_count": null,
   "id": "9abba7a0",
   "metadata": {},
   "outputs": [],
   "source": [
    "wcs.world_axis_physical_types"
   ]
  },
  {
   "cell_type": "markdown",
   "id": "2709aeac",
   "metadata": {},
   "source": [
    "We can also inspect the correlation between the world axes and pixel axes:"
   ]
  },
  {
   "cell_type": "code",
   "execution_count": null,
   "id": "706db8a0",
   "metadata": {},
   "outputs": [],
   "source": [
    "wcs.axis_correlation_matrix"
   ]
  },
  {
   "cell_type": "markdown",
   "id": "94661207",
   "metadata": {},
   "source": [
    "This correlation matrix has the world dimensions as rows, and the pixel dimensions as columns.\n",
    "As we have a 2D image here, with two pixel and two world axes where both are coupled together.\n",
    "This means that to calculate either latitude or longitude you need both pixel coordinates."
   ]
  }
 ],
 "metadata": {
  "kernelspec": {
   "display_name": "Python 3",
   "language": "python",
   "name": "python3"
  }
 },
 "nbformat": 4,
 "nbformat_minor": 5
}
