{
 "cells": [
  {
   "cell_type": "markdown",
   "id": "e3147083",
   "metadata": {},
   "source": [
    "(dkist:tutorial:astropy-and-sunpy)=\n",
    "# Astropy and SunPy - A Quick Primer\n",
    "\n",
    "This chapter will cover the basic functionality of SunPy and Astropy which is relevant to the `dkist` package.\n",
    "There are many other parts of these packages which are useful when working with DKIST data, which you should explore in their respective documentation pages.\n",
    "See [here for SunPy's documentation](https://docs.sunpy.org/) and [here for astropy's](https://docs.astropy.org/).\n",
    "\n",
    "In this chapter you will:\n",
    "\n",
    "* Convert values between different physical units\n",
    "* Define spatial and spectral coordinates\n",
    "* Convert between world and pixel coordinate systems\n",
    "\n",
    "## Units\n",
    "\n",
    "Astropy provides a subpackage {obj}`astropy.units` which provides tools for associating physical units with numbers and arrays.\n",
    "This lets you do mathematical operations on these arrays while propagating the units.\n",
    "\n",
    "To get started we import `astropy.units`.\n",
    "Because we are going to be using this a lot, we import it as `u`."
   ]
  },
  {
   "cell_type": "code",
   "execution_count": null,
   "id": "d21819ff",
   "metadata": {},
   "outputs": [],
   "source": [
    "import astropy.units as u"
   ]
  },
  {
   "cell_type": "markdown",
   "id": "93e04c6d",
   "metadata": {},
   "source": [
    "Now we can access various physical units defined in astropy, such as metres or kilograms:"
   ]
  },
  {
   "cell_type": "code",
   "execution_count": null,
   "id": "b385581c",
   "metadata": {},
   "outputs": [],
   "source": [
    "u.m"
   ]
  },
  {
   "cell_type": "code",
   "execution_count": null,
   "id": "69c09bd1",
   "metadata": {},
   "outputs": [],
   "source": [
    "u.kg"
   ]
  },
  {
   "cell_type": "markdown",
   "id": "14184556",
   "metadata": {},
   "source": [
    "We can also attach a unit to a number to create a quantity:"
   ]
  },
  {
   "cell_type": "code",
   "execution_count": null,
   "id": "8e845280",
   "metadata": {},
   "outputs": [],
   "source": [
    "length = 10 * u.m\n",
    "length"
   ]
  },
  {
   "cell_type": "markdown",
   "id": "da4592f8",
   "metadata": {},
   "source": [
    "And use multiple quantities in a calculation:"
   ]
  },
  {
   "cell_type": "code",
   "execution_count": null,
   "id": "02bc07f2",
   "metadata": {},
   "outputs": [],
   "source": [
    "time = 30 * u.min\n",
    "speed = length / time\n",
    "speed"
   ]
  },
  {
   "cell_type": "markdown",
   "id": "80982907",
   "metadata": {},
   "source": [
    "Using the `.to()` method on a `u.Quantity` object lets you convert a quantity to a different unit."
   ]
  },
  {
   "cell_type": "code",
   "execution_count": null,
   "id": "4d977390",
   "metadata": {},
   "outputs": [],
   "source": [
    "speed.to(u.km/u.h)"
   ]
  },
  {
   "cell_type": "markdown",
   "id": "41067b6c",
   "metadata": {},
   "source": [
    "### Equivalencies\n",
    "\n",
    "Some conversions are not done by a conversion factor as between miles and kilometers – for example converting between wavelength and frequency:"
   ]
  },
  {
   "cell_type": "code",
   "execution_count": null,
   "id": "25d6d5f6",
   "metadata": {
    "tags": [
     "raises-exception"
    ]
   },
   "outputs": [],
   "source": [
    "(656.281 * u.nm).to(u.Hz)  # Fails because they are not compatible"
   ]
  },
  {
   "cell_type": "markdown",
   "id": "ad79a637",
   "metadata": {},
   "source": [
    "However we can make use of a spectral *equivalency* to indicate the link between the units:"
   ]
  },
  {
   "cell_type": "code",
   "execution_count": null,
   "id": "5ebc0f4d",
   "metadata": {},
   "outputs": [],
   "source": [
    "(656.281 * u.nm).to(u.Hz, equivalencies=u.spectral())"
   ]
  },
  {
   "cell_type": "markdown",
   "id": "bad1737b",
   "metadata": {},
   "source": [
    "### Constants\n",
    "\n",
    "The `astropy.constants` sub-package provides a set of physical constants which are compatible with the units/quantities framework:"
   ]
  },
  {
   "cell_type": "code",
   "execution_count": null,
   "id": "20c51c38",
   "metadata": {},
   "outputs": [],
   "source": [
    "from astropy.constants import M_sun, c"
   ]
  },
  {
   "cell_type": "code",
   "execution_count": null,
   "id": "decc267d",
   "metadata": {},
   "outputs": [],
   "source": [
    "E = M_sun * c ** 2\n",
    "E.to(u.J)"
   ]
  },
  {
   "cell_type": "markdown",
   "id": "1254d728",
   "metadata": {},
   "source": [
    "## Coordinates\n",
    "\n",
    "The Astropy coordinates submodule {obj}`astropy.coordinates` provides classes to represent physical coordinates with all their associated metadata, and transform them between different coordinate systems.\n",
    "Currently, {obj}`astropy.coordinates` supports:\n",
    "\n",
    "* Spatial coordinates via {obj}`astropy.coordinates.SkyCoord`\n",
    "* Spectral coordinates via {obj}`astropy.coordinates.SpectralCoord`\n",
    "* Stokes profiles via {obj}`astropy.coordinates.StokesCoord` (introduced in astropy 7.0)\n",
    "\n",
    "### Spatial Coordinates\n",
    "\n",
    "SunPy provides extensions to the Astropy coordinate system to represent common solar physics frames.\n",
    "So to use the sunpy coordinates we have to first import {obj}`sunpy.coordinates` which registers them with astropy."
   ]
  },
  {
   "cell_type": "code",
   "execution_count": null,
   "id": "ccb26b64",
   "metadata": {},
   "outputs": [],
   "source": [
    "import sunpy.coordinates\n",
    "from astropy.coordinates import SkyCoord"
   ]
  },
  {
   "cell_type": "markdown",
   "id": "001a02ac",
   "metadata": {},
   "source": [
    "We can now create a `SkyCoord` object representing a point on the Sun:"
   ]
  },
  {
   "cell_type": "code",
   "execution_count": null,
   "id": "04ca4a5f",
   "metadata": {},
   "outputs": [],
   "source": [
    "SkyCoord(10*u.arcsec, 20*u.arcsec, frame=\"helioprojective\")"
   ]
  },
  {
   "cell_type": "markdown",
   "id": "39102530",
   "metadata": {},
   "source": [
    "This is the most minimal version of this coordinate frame, however, it isn't very useful as we haven't provided enough information to be able to transform it to other frames.\n",
    "This is because helioprojective is an observer centred coordinate frame, so we need to know where in inertial space the observer is.\n",
    "One way of doing this is to say the observer is on Earth at a specific time:"
   ]
  },
  {
   "cell_type": "code",
   "execution_count": null,
   "id": "7e8e52fb",
   "metadata": {},
   "outputs": [],
   "source": [
    "hpc1 = SkyCoord(10*u.arcsec, 20*u.arcsec, frame=\"helioprojective\",\n",
    "                obstime=\"2023-05-21T04:00:00\", observer=\"earth\")\n",
    "hpc1"
   ]
  },
  {
   "cell_type": "markdown",
   "id": "4e22b2ae",
   "metadata": {},
   "source": [
    "This coordinate can now be converted to other frames, such as heliographic coordinates:"
   ]
  },
  {
   "cell_type": "code",
   "execution_count": null,
   "id": "dd8e761a",
   "metadata": {},
   "outputs": [],
   "source": [
    "hpc1.transform_to(\"heliographic_stonyhurst\")"
   ]
  },
  {
   "cell_type": "markdown",
   "id": "c74a1c26",
   "metadata": {},
   "source": [
    "There are few things to notice about the difference between these two `SkyCoord` objects:\n",
    "\n",
    "1. The default representation of the latitude and longitude is now in degrees as is conventional.\n",
    "1. The heliographic frame is three dimensional (it has a radius), when the input frame was not. This is because the distance from the observer was calculated using the `rsun` attribute.\n",
    "1. The `obstime` and `rsun` attributes are still present, but the `observer` attribute isn't. This is because heliographic coordinates are not observer dependent.\n",
    "1. The `obstime` attribute is still important to transform to other frames, as the heliographic frame needs to know the location of Earth.\n",
    "\n",
    "### Spectral Coordinates\n",
    "\n",
    "{obj}`astropy.coordinates.SpectralCoord` is a `Quantity`-like object which also holds information about the observer and target coordinates and relative velocities.\n",
    "\n",
    "```{note}\n",
    "Use of `SpectralCoord` with solar data is still experimental so not all features may work, or be accurate.\n",
    "```"
   ]
  },
  {
   "cell_type": "code",
   "execution_count": null,
   "id": "7b2da00f",
   "metadata": {},
   "outputs": [],
   "source": [
    "from astropy.coordinates import SpectralCoord\n",
    "from sunpy.coordinates import get_earth"
   ]
  },
  {
   "cell_type": "markdown",
   "id": "9181861d",
   "metadata": {},
   "source": [
    "`SpectralCoord` does not automatically make the HPC coordinate 3D, but wants the distance, so we do it explicitally:"
   ]
  },
  {
   "cell_type": "code",
   "execution_count": null,
   "id": "d36a4009",
   "metadata": {},
   "outputs": [],
   "source": [
    "hpc2 = hpc1.make_3d()"
   ]
  },
  {
   "cell_type": "markdown",
   "id": "687b9a3e",
   "metadata": {},
   "source": [
    "Now we can construct our spectral coordinate with both a target and an observer"
   ]
  },
  {
   "cell_type": "code",
   "execution_count": null,
   "id": "d538e36b",
   "metadata": {},
   "outputs": [],
   "source": [
    "spc = SpectralCoord(586.3 * u.nm, target=hpc2, observer=get_earth(time=hpc2.obstime))\n",
    "spc"
   ]
  },
  {
   "cell_type": "markdown",
   "id": "698f8d73",
   "metadata": {},
   "source": [
    "(If you're viewing this document in Jupyter notebook form you may have to work around a [bug in astropy](https://github.com/astropy/astropy/issues/14758) to display `spc` properly):"
   ]
  },
  {
   "cell_type": "code",
   "execution_count": null,
   "id": "c03afd80",
   "metadata": {},
   "outputs": [],
   "source": [
    "print(repr(spc))"
   ]
  },
  {
   "cell_type": "markdown",
   "id": "28be2a83",
   "metadata": {},
   "source": [
    "## World Coordinate System\n",
    "\n",
    "One of the other core components of the ecosystem provided by Astropy is the {obj}`astropy.wcs` package which provides tools for mapping pixel to world coordinates and world to pixel.\n",
    "When loading a FITS file with complete (and standard compliant) WCS metadata we can create an `astropy.wcs.WCS` object.\n",
    "For this example we will use a sample VISP header distributed with the `dkist` package."
   ]
  },
  {
   "cell_type": "code",
   "execution_count": null,
   "id": "fdfe2e84",
   "metadata": {},
   "outputs": [],
   "source": [
    "import sunpy.coordinates"
   ]
  },
  {
   "cell_type": "markdown",
   "id": "0a42dc2e",
   "metadata": {},
   "source": [
    "To read this FITS file we will use {obj}`astropy.io.fits` (you can also use `sunpy` for this)."
   ]
  },
  {
   "cell_type": "code",
   "execution_count": null,
   "id": "96767048",
   "metadata": {},
   "outputs": [],
   "source": [
    "from dkist.data.sample import VISP_HEADER"
   ]
  },
  {
   "cell_type": "markdown",
   "id": "80b1ca11",
   "metadata": {},
   "source": [
    "Using this header we can create a `astropy.wcs.WCS` object:"
   ]
  },
  {
   "cell_type": "code",
   "execution_count": null,
   "id": "8bab0c03",
   "metadata": {},
   "outputs": [],
   "source": [
    "from astropy.wcs import WCS\n",
    "\n",
    "wcs = WCS(VISP_HEADER)\n",
    "wcs"
   ]
  },
  {
   "cell_type": "markdown",
   "id": "a3dc0089",
   "metadata": {},
   "source": [
    "This WCS object allows us to convert between pixel and world coordinates, for example:"
   ]
  },
  {
   "cell_type": "code",
   "execution_count": null,
   "id": "c2ad140b",
   "metadata": {},
   "outputs": [],
   "source": [
    "wcs.pixel_to_world(1024, 400, 1)"
   ]
  },
  {
   "cell_type": "markdown",
   "id": "a4077fc8",
   "metadata": {},
   "source": [
    "This call returns a {obj}`astropy.coordinates.SkyCoord` object (which needs sunpy to be imported), we will come onto this more later.\n",
    "\n",
    "We can also convert between pixel and plain numbers:"
   ]
  },
  {
   "cell_type": "code",
   "execution_count": null,
   "id": "fd4a1baa",
   "metadata": {},
   "outputs": [],
   "source": [
    "wcs.pixel_to_world_values(1024, 400, 1)"
   ]
  },
  {
   "cell_type": "markdown",
   "id": "309c7c27",
   "metadata": {},
   "source": [
    "The units for these values are given by:"
   ]
  },
  {
   "cell_type": "code",
   "execution_count": null,
   "id": "d55d1853",
   "metadata": {},
   "outputs": [],
   "source": [
    "wcs.world_axis_units"
   ]
  },
  {
   "cell_type": "markdown",
   "id": "9805123c",
   "metadata": {},
   "source": [
    "The WCS also has information about what the world axes represent:"
   ]
  },
  {
   "cell_type": "code",
   "execution_count": null,
   "id": "df5f936e",
   "metadata": {},
   "outputs": [],
   "source": [
    "wcs.world_axis_physical_types"
   ]
  },
  {
   "cell_type": "markdown",
   "id": "4365a0f2",
   "metadata": {},
   "source": [
    "We can also inspect the correlation between the world axes and pixel axes:"
   ]
  },
  {
   "cell_type": "code",
   "execution_count": null,
   "id": "f8664271",
   "metadata": {},
   "outputs": [],
   "source": [
    "wcs.axis_correlation_matrix"
   ]
  },
  {
   "cell_type": "markdown",
   "id": "ebcecd1f",
   "metadata": {},
   "source": [
    "This correlation matrix has the world dimensions as rows, and the pixel dimensions as columns.\n",
    "Here we have a 2D image, with two pixel and two world axes where both are coupled together.\n",
    "This means that to calculate either latitude or longitude you need both pixel coordinates."
   ]
  }
 ],
 "metadata": {
  "jupytext": {
   "default_lexer": "python"
  },
  "kernelspec": {
   "display_name": "Python 3",
   "language": "python",
   "name": "python3"
  }
 },
 "nbformat": 4,
 "nbformat_minor": 5
}
