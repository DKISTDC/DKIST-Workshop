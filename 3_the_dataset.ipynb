{
 "cells": [
  {
   "cell_type": "markdown",
   "id": "0",
   "metadata": {},
   "source": [
    "(dkist:tutorial:visp-dataset)=\n",
    "# Working with a VISP `Dataset`\n",
    "\n",
    "In this tutorial you will learn how to open a dataset and inspect it, then choose a subset of the data to download.\n",
    "\n",
    "A `Dataset` class is constructed from the ASDF file for that dataset, this ASDF file contains the following information:\n",
    "* A table containing all the headers from all FITS files that comprise the dataset.\n",
    "* A copy of the Data Center's inventory record for the dataset.\n",
    "* A `gwcs` object which provides coordinate information for the whole dataset.\n",
    "* A list of all the component FITS files and the required order to combine them into a single array.\n",
    "\n",
    "In this tutorial we will create `Dataset`s using only the ASDF files.\n",
    "This will mean we won't have access to the data arrays in the FITS files, but everything else will function the same.\n",
    "\n",
    "## Constructing `Dataset` Objects\n",
    "\n",
    "We can construct a `Dataset` by providing a path to an ASDF file.\n",
    "Here we shall first fetch an ASDF file with Fido and then pass it to `dkist.load_dataset`:"
   ]
  },
  {
   "cell_type": "code",
   "execution_count": null,
   "id": "1",
   "metadata": {
    "tags": [
     "keep-inputs"
    ]
   },
   "outputs": [],
   "source": []
  },
  {
   "cell_type": "code",
   "execution_count": null,
   "id": "2",
   "metadata": {},
   "outputs": [],
   "source": []
  },
  {
   "cell_type": "markdown",
   "id": "3",
   "metadata": {},
   "source": [
    "Remember that the file we have downloaded is a single ASDF file, **not** the whole dataset.\n",
    "We can use this file to construct the `Dataset`:"
   ]
  },
  {
   "cell_type": "code",
   "execution_count": null,
   "id": "4",
   "metadata": {},
   "outputs": [],
   "source": []
  },
  {
   "cell_type": "markdown",
   "id": "5",
   "metadata": {},
   "source": [
    "Now we have a `Dataset` object which describes the shape, size and physical dimensions of the array, but doesn't yet contain any of the actual data.\n",
    "This may sound unhelpful but we'll see how it can be very powerful.\n",
    "\n",
    "Let's have a look at the basic representation of the `Dataset`."
   ]
  },
  {
   "cell_type": "code",
   "execution_count": null,
   "id": "6",
   "metadata": {},
   "outputs": [],
   "source": []
  },
  {
   "cell_type": "markdown",
   "id": "7",
   "metadata": {},
   "source": [
    "This gives us a lot of information about the both the *pixel dimensions* of the data (the coordinates of the detector grid) and the *world dimensions* (the physical coordinates of the image).\n",
    "Before we go on to using the `Dataset` for inspecting the data, we will take a moment to discuss coordinate systems and consider what the `Dataset` output above means.\n",
    "\n",
    "## `Dataset` and `NDCube`: Coordinate aware arrays\n",
    "\n",
    "The `Dataset` class is an extension to [SunPy's `NDCube` class](https://docs.sunpy.org/projects/ndcube/).\n",
    "Much of the following functionality is available in all `NDCube` objects.\n",
    "See the `NDCube` documentation for more detail.\n",
    "\n",
    "### Pixel, Array and World Ordering\n",
    "\n",
    "We will use the following definitions to distinguish between pixel, array, and world coordinates:\n",
    "\n",
    "* **Pixel** ordering is defined as \"Cartesian\" ordering, or the same as Fortran ordering or column major. This is the ordering used by FITS files and WCS objects in Python.\n",
    "* **Array** ordering is defined a C or row-major ordering. This is use by Python's numpy arrays, as Python is implemented in C.\n",
    "* **World** coordinates are the physical coordinates that correspond to pixel coordinates. These are not always in either pixel or array order, but tend to be close to pixel order.\n",
    "\n",
    "The pixel grid will always be aligned with the array, so pixel and array coordinates are the same except for the ordering.\n",
    "\n",
    "### Coordinates, Arrays, Pixels, oh my!\n",
    "\n",
    "A key aspect of the `Dataset` is that it is coordinate aware.\n",
    "That is, it is able to map between array indices and physical dimensions.\n",
    "This means that you can easily convert from a position in the array to a location defined by physical coordinates.\n",
    "\n",
    "To achieve this, `Dataset` tracks the pixel and world coordinates independently in the `wcs` (World Coordinate System) attribute.\n",
    "The output above tells us that we have a 4-dimensional pixel grid and a 5-dimensional world grid:"
   ]
  },
  {
   "cell_type": "code",
   "execution_count": null,
   "id": "8",
   "metadata": {},
   "outputs": [],
   "source": []
  },
  {
   "cell_type": "markdown",
   "id": "9",
   "metadata": {},
   "source": [
    "The next few lines tell us about the data array and the pixel dimensions."
   ]
  },
  {
   "cell_type": "code",
   "execution_count": null,
   "id": "10",
   "metadata": {},
   "outputs": [],
   "source": []
  },
  {
   "cell_type": "markdown",
   "id": "11",
   "metadata": {},
   "source": [
    "This tells us that the data are (or will be) stored in a dask array, and the array dimensions.\n",
    "(More on Dask and dask arrays in a later tutorial.)\n",
    "\n",
    "We can get the corresponding **pixel** axis names with:"
   ]
  },
  {
   "cell_type": "code",
   "execution_count": null,
   "id": "12",
   "metadata": {},
   "outputs": [],
   "source": []
  },
  {
   "cell_type": "markdown",
   "id": "13",
   "metadata": {},
   "source": [
    "Note that these are in reverse order compared to the `ds` output earlier.\n",
    "This is because they are in *pixel* order rather than *array* order.\n",
    "\n",
    "Next we see the description of the world coordinates.\n",
    "This information is also accessible through the `wcs` attribute:"
   ]
  },
  {
   "cell_type": "code",
   "execution_count": null,
   "id": "14",
   "metadata": {},
   "outputs": [],
   "source": []
  },
  {
   "cell_type": "markdown",
   "id": "15",
   "metadata": {},
   "source": [
    "This tells us the names of the physical axes, each of which corresponds to a type of phyical observation (lon/lat, time, wavelength, etc.) and has its own units."
   ]
  },
  {
   "cell_type": "code",
   "execution_count": null,
   "id": "16",
   "metadata": {},
   "outputs": [],
   "source": []
  },
  {
   "cell_type": "markdown",
   "id": "17",
   "metadata": {},
   "source": [
    "You will have noticed that the pixel and world coordinates have different numbers of dimensions.\n",
    "This is because in this dataset the detector is not aligned with the solar latitude/longitude coordinate system, so any change in position along the detector slit will be equivalent to a change in both latitude and longitude.\n",
    "To see this, we can look at the physical coordinates which correspond to each array axis, just as we did for the world axes."
   ]
  },
  {
   "cell_type": "code",
   "execution_count": null,
   "id": "18",
   "metadata": {},
   "outputs": [],
   "source": []
  },
  {
   "cell_type": "markdown",
   "id": "19",
   "metadata": {},
   "source": [
    "The final piece of output is the axis correlation matrix which summarises which pixel and world axes correspond to each other:"
   ]
  },
  {
   "cell_type": "code",
   "execution_count": null,
   "id": "20",
   "metadata": {},
   "outputs": [],
   "source": []
  },
  {
   "cell_type": "markdown",
   "id": "21",
   "metadata": {},
   "source": [
    "We can use all of this information about the dataset coordinates to convert from pixel to world coordinates or vice versa.\n",
    "So if for example we want to plot our data at, say, a particular wavelength, we can find the corresponding array index with `ds.wcs.world_to_array_index()`\n",
    "<!-- Actually put a calculation here when the function works -->\n",
    "\n",
    "### Slicing Datasets\n",
    "\n",
    "A useful feature of the `Dataset` class, which it inherits from `NDCube` is the ability to \"slice\" the dataset and get a smaller dataset, with the array and coordinate information in tact.\n",
    "\n",
    "For example, to extract the Stokes I component of the dataset we would do:"
   ]
  },
  {
   "cell_type": "code",
   "execution_count": null,
   "id": "22",
   "metadata": {},
   "outputs": [],
   "source": []
  },
  {
   "cell_type": "markdown",
   "id": "23",
   "metadata": {},
   "source": [
    "this is because the stokes axis is the first array axis, and the \"I\" profile is the first one (0 indexing).\n",
    "\n",
    "Note how we have dropped a world coordinate, this information is preserved in the `.global_coords` attribute, which contains the coordinate information which applies to the whole dataset:"
   ]
  },
  {
   "cell_type": "code",
   "execution_count": null,
   "id": "24",
   "metadata": {},
   "outputs": [],
   "source": []
  },
  {
   "cell_type": "markdown",
   "id": "25",
   "metadata": {},
   "source": [
    "We can also slice the data further, as we would for a normal numpy array.\n",
    "So for instance we can select a small section of the image in Stokes I at some arbitrary wavelength:"
   ]
  },
  {
   "cell_type": "code",
   "execution_count": null,
   "id": "26",
   "metadata": {},
   "outputs": [],
   "source": []
  },
  {
   "cell_type": "markdown",
   "id": "27",
   "metadata": {},
   "source": [
    "Notice again that this has reduced the dimensionality of the world coordinates as well as of the data itself."
   ]
  }
 ],
 "metadata": {
  "kernelspec": {
   "display_name": "Python 3 (ipykernel)",
   "language": "python",
   "name": "python3"
  }
 },
 "nbformat": 4,
 "nbformat_minor": 5
}
